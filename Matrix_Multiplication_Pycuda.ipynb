{
  "nbformat": 4,
  "nbformat_minor": 0,
  "metadata": {
    "colab": {
      "name": "Matrix_Multiplication_Pycuda.ipynb",
      "provenance": [],
      "include_colab_link": true
    },
    "kernelspec": {
      "name": "python3",
      "display_name": "Python 3"
    },
    "accelerator": "GPU"
  },
  "cells": [
    {
      "cell_type": "markdown",
      "metadata": {
        "id": "view-in-github",
        "colab_type": "text"
      },
      "source": [
        "<a href=\"https://colab.research.google.com/github/shreya0202/PyCuda/blob/main/Matrix_Multiplication_Pycuda.ipynb\" target=\"_parent\"><img src=\"https://colab.research.google.com/assets/colab-badge.svg\" alt=\"Open In Colab\"/></a>"
      ]
    },
    {
      "cell_type": "code",
      "metadata": {
        "id": "Mp-hdJbP_7Fs",
        "colab": {
          "base_uri": "https://localhost:8080/"
        },
        "outputId": "2cc9b9a2-cb77-4b34-9563-47fc8038c0a1"
      },
      "source": [
        "!pip install pycuda # install cuda"
      ],
      "execution_count": null,
      "outputs": [
        {
          "output_type": "stream",
          "text": [
            "Collecting pycuda\n",
            "\u001b[?25l  Downloading https://files.pythonhosted.org/packages/46/61/47d3235a4c13eec5a5f03594ddb268f4858734e02980afbcd806e6242fa5/pycuda-2020.1.tar.gz (1.6MB)\n",
            "\u001b[K     |████████████████████████████████| 1.6MB 8.9MB/s \n",
            "\u001b[?25hCollecting pytools>=2011.2\n",
            "\u001b[?25l  Downloading https://files.pythonhosted.org/packages/b7/30/c9362a282ef89106768cba9d884f4b2e4f5dc6881d0c19b478d2a710b82b/pytools-2020.4.3.tar.gz (62kB)\n",
            "\u001b[K     |████████████████████████████████| 71kB 10.6MB/s \n",
            "\u001b[?25hRequirement already satisfied: decorator>=3.2.0 in /usr/local/lib/python3.6/dist-packages (from pycuda) (4.4.2)\n",
            "Collecting appdirs>=1.4.0\n",
            "  Downloading https://files.pythonhosted.org/packages/3b/00/2344469e2084fb287c2e0b57b72910309874c3245463acd6cf5e3db69324/appdirs-1.4.4-py2.py3-none-any.whl\n",
            "Collecting mako\n",
            "\u001b[?25l  Downloading https://files.pythonhosted.org/packages/a6/37/0e706200d22172eb8fa17d68a7ae22dec7631a0a92266634fb518a88a5b2/Mako-1.1.3-py2.py3-none-any.whl (75kB)\n",
            "\u001b[K     |████████████████████████████████| 81kB 10.1MB/s \n",
            "\u001b[?25hRequirement already satisfied: six>=1.8.0 in /usr/local/lib/python3.6/dist-packages (from pytools>=2011.2->pycuda) (1.15.0)\n",
            "Requirement already satisfied: numpy>=1.6.0 in /usr/local/lib/python3.6/dist-packages (from pytools>=2011.2->pycuda) (1.18.5)\n",
            "Requirement already satisfied: dataclasses>=0.7 in /usr/local/lib/python3.6/dist-packages (from pytools>=2011.2->pycuda) (0.7)\n",
            "Requirement already satisfied: MarkupSafe>=0.9.2 in /usr/local/lib/python3.6/dist-packages (from mako->pycuda) (1.1.1)\n",
            "Building wheels for collected packages: pycuda, pytools\n",
            "  Building wheel for pycuda (setup.py) ... \u001b[?25l\u001b[?25hdone\n",
            "  Created wheel for pycuda: filename=pycuda-2020.1-cp36-cp36m-linux_x86_64.whl size=620899 sha256=f184cce504bd00590402e7bc19c51f435da774991078344dc028504f2b1baef9\n",
            "  Stored in directory: /root/.cache/pip/wheels/8f/78/d1/5bb826f81d9d490297a348d818ff3ee6dd6f2075b06dde6ea0\n",
            "  Building wheel for pytools (setup.py) ... \u001b[?25l\u001b[?25hdone\n",
            "  Created wheel for pytools: filename=pytools-2020.4.3-py2.py3-none-any.whl size=61374 sha256=3ea1553fdd8f9066b9e041e19e91c4678a425d5fe825b6b7797bcadd1db33fa8\n",
            "  Stored in directory: /root/.cache/pip/wheels/af/c7/81/a22edb90b0b09a880468b2253bb1df8e9f503337ee15432c64\n",
            "Successfully built pycuda pytools\n",
            "Installing collected packages: appdirs, pytools, mako, pycuda\n",
            "Successfully installed appdirs-1.4.4 mako-1.1.3 pycuda-2020.1 pytools-2020.4.3\n"
          ],
          "name": "stdout"
        }
      ]
    },
    {
      "cell_type": "markdown",
      "metadata": {
        "id": "6iYSAun4KFdT"
      },
      "source": [
        "Python: Assignment 4 for case A ∈ R500×500, B ∈ R500×400, N > 100"
      ]
    },
    {
      "cell_type": "code",
      "metadata": {
        "colab": {
          "base_uri": "https://localhost:8080/"
        },
        "id": "qEdJ8fwTIany",
        "outputId": "de4e5675-816f-47ed-8861-11be0046b46d"
      },
      "source": [
        "import numpy as np\n",
        "import time\n",
        "from pycuda import driver, compiler, gpuarray, tools\n",
        "import pycuda.autoinit\n",
        "\n",
        "gpu_code = \"\"\"\n",
        "__global__ void MatrixMulKernel(int N, double *A, double *B, double *C)\n",
        "{\n",
        "    int threadId= (blockDim.x * blockDim.y) * threadIdx.z + (threadIdx.y * blockDim.x) + (threadIdx.x);\n",
        "    int blockId= (gridDim.x * gridDim.y) * blockIdx.z + (blockIdx.y * gridDim.x) + (blockIdx.x);\n",
        "    int DimBlock= blockDim.x * blockDim.y * blockDim.z;\n",
        "    int DimGrid= gridDim.x * gridDim.y * gridDim.z;\n",
        "\n",
        "    for (int i = blockId; i < N; i += DimGrid)\n",
        "    {\n",
        "      for(int j = threadId; j < N; j += DimBlock)\n",
        "      {\n",
        "        for(int k = 0; k < N; k++)\n",
        "        { \n",
        "          C [i * N +j] += ( A [ i * N + k] * B [ k * N + j] );\n",
        "        }\n",
        "      }\n",
        "    }\n",
        "\n",
        "}\n",
        "\"\"\"\n",
        "\n",
        "def compute(x, y, l, m, N) :\n",
        "\n",
        "      start_time = time.time()\n",
        "\n",
        "      # Randomly assign values to matrices\n",
        "      A_H = np.random.randn(x, y).astype(np.float32)\n",
        "      B_H = np.random.randn(l, m).astype(np.float32)\n",
        "\n",
        "      # Host Matrix Multiplication\n",
        "      C_H = np.dot(A_H, B_H)\n",
        "      print(\"CPU Time for N = %d is: %.7s secs\" % (N, (time.time() - start_time)) )\n",
        "\n",
        "      # Transfer host to kernel\n",
        "      d_A = gpuarray.to_gpu(A_H) \n",
        "      d_B = gpuarray.to_gpu(B_H)\n",
        "\n",
        "      d_C = gpuarray.empty((x, m), np.float32)\n",
        "\n",
        "      # Assigning N\n",
        "      gpuCode = gpu_code % {\n",
        "          'N': N \n",
        "          }\n",
        "\n",
        "      out = compiler.SourceModule(gpuCode)\n",
        "      matrixmulkernel = out.get_function(\"MatrixMulKernel\")\n",
        "      matrixmulkernel(d_A, d_B,d_C, block = (16, 16, 1), grid = (16,8,1))\n",
        "\n",
        "      print(\"GPU Time for N = %d is: %.7s secs\" % (N, (time.time() - start_time)) )\n",
        "      print()\n",
        "\n",
        "\n",
        "def main():\n",
        "  print(\"Python Results for Assignment 4:\")\n",
        "  print()\n",
        "  switcher = { \n",
        "      1: compute(500, 500, 500, 400, 150), \n",
        "      2: compute(500, 500, 500, 400, 300), \n",
        "      3: compute(500, 500, 500, 400, 500), \n",
        "  } \n",
        "\n",
        "main()\n",
        "\n"
      ],
      "execution_count": null,
      "outputs": [
        {
          "output_type": "stream",
          "text": [
            "Python Results for Assignment 4:\n",
            "\n",
            "CPU Time for N = 150 is: 0.02667 secs\n",
            "GPU Time for N = 150 is: 0.02942 secs\n",
            "\n",
            "CPU Time for N = 300 is: 0.02685 secs\n",
            "GPU Time for N = 300 is: 0.02984 secs\n",
            "\n",
            "CPU Time for N = 500 is: 0.02596 secs\n",
            "GPU Time for N = 500 is: 0.02826 secs\n",
            "\n"
          ],
          "name": "stdout"
        }
      ]
    },
    {
      "cell_type": "markdown",
      "metadata": {
        "id": "tp14AGrKJ9dt"
      },
      "source": [
        "Python: Assignment 3 Part II"
      ]
    },
    {
      "cell_type": "code",
      "metadata": {
        "colab": {
          "base_uri": "https://localhost:8080/"
        },
        "id": "ZrLJ1jDrJM8m",
        "outputId": "3059f3bf-0802-4774-a4be-d61094e9e752"
      },
      "source": [
        "import numpy as np\n",
        "import time\n",
        "from pycuda import driver, compiler, gpuarray, tools\n",
        "import pycuda.autoinit\n",
        "\n",
        "gpu_code = \"\"\"\n",
        "__global__ void MatrixMulKernel(int N, double *A, double *B, double *C)\n",
        "{\n",
        "    int threadId= (blockDim.x * blockDim.y) * threadIdx.z + (threadIdx.y * blockDim.x) + (threadIdx.x);\n",
        "    int blockId= (gridDim.x * gridDim.y) * blockIdx.z + (blockIdx.y * gridDim.x) + (blockIdx.x);\n",
        "    int DimBlock= blockDim.x * blockDim.y * blockDim.z;\n",
        "    int DimGrid= gridDim.x * gridDim.y * gridDim.z;\n",
        "\n",
        "    for (int i = blockId; i < N; i += DimGrid)\n",
        "    {\n",
        "      for(int j = threadId; j < N; j += DimBlock)\n",
        "      {\n",
        "        for(int k = 0; k < N; k++)\n",
        "        { \n",
        "          C [i * N +j] += ( A [ i * N + k] * B [ k * N + j] );\n",
        "        }\n",
        "      }\n",
        "    }\n",
        "\n",
        "}\n",
        "\"\"\"\n",
        "\n",
        "def compute(x, y, l, m, N, num) :\n",
        "\n",
        "      start_time = time.time()\n",
        "\n",
        "      # Randomly assign values to matrices\n",
        "      A_H = np.random.randn(x, y).astype(np.float32)\n",
        "      B_H = np.random.randn(l, m).astype(np.float32)\n",
        "\n",
        "      # Host Matrix Multiplication\n",
        "      C_H = np.dot(A_H, B_H)\n",
        "      print(\"CPU Time for case %d is: %.7s secs\" % (num, (time.time() - start_time)) )\n",
        "\n",
        "      # Transfer host to kernel\n",
        "      d_A = gpuarray.to_gpu(A_H) \n",
        "      d_B = gpuarray.to_gpu(B_H)\n",
        "\n",
        "      d_C = gpuarray.empty((x, m), np.float32)\n",
        "\n",
        "      # Assigning N\n",
        "      gpuCode = gpu_code % {\n",
        "          'N': N \n",
        "          }\n",
        "\n",
        "      out = compiler.SourceModule(gpuCode)\n",
        "      matrixmulkernel = out.get_function(\"MatrixMulKernel\")\n",
        "      matrixmulkernel(d_A, d_B,d_C, block = (16, 16, 1), grid = (16,8,1))\n",
        "\n",
        "      print(\"GPU Time for case %d is: %.7s secs\" % (num, (time.time() - start_time)) )\n",
        "      print()\n",
        "\n",
        "\n",
        "def main():\n",
        "  print(\"Python results for Assignmnet 3-Part II:\")\n",
        "  print()\n",
        "  switcher = { \n",
        "      1: compute(500, 500, 500, 400, 100, 1), \n",
        "      2: compute(50, 20, 20, 50, 5000, 2), \n",
        "      3: compute(6, 4000, 4000, 9, 1000, 3), \n",
        "  } \n",
        "\n",
        "main()\n"
      ],
      "execution_count": null,
      "outputs": [
        {
          "output_type": "stream",
          "text": [
            "Python results for Assignmnet 3-Part II:\n",
            "\n",
            "CPU Time for case 1 is: 0.02635 secs\n",
            "GPU Time for case 1 is: 0.02997 secs\n",
            "\n",
            "CPU Time for case 2 is: 0.00047 secs\n",
            "GPU Time for case 2 is: 0.00219 secs\n",
            "\n",
            "CPU Time for case 3 is: 0.00339 secs\n",
            "GPU Time for case 3 is: 0.00503 secs\n",
            "\n"
          ],
          "name": "stdout"
        }
      ]
    }
  ]
}